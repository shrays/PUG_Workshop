{
 "cells": [
  {
   "cell_type": "markdown",
   "id": "f060bf6f",
   "metadata": {},
   "source": [
    "# PUG Data and Plotting Workshop"
   ]
  },
  {
   "cell_type": "code",
   "execution_count": 1,
   "id": "5e384449",
   "metadata": {},
   "outputs": [
    {
     "name": "stdout",
     "output_type": "stream",
     "text": [
      "Welcome to PUG!\n"
     ]
    }
   ],
   "source": [
    "print('Welcome to PUG!')"
   ]
  }
 ],
 "metadata": {
  "kernelspec": {
   "display_name": "Python 3.9.12 ('base')",
   "language": "python",
   "name": "python3"
  },
  "language_info": {
   "codemirror_mode": {
    "name": "ipython",
    "version": 3
   },
   "file_extension": ".py",
   "mimetype": "text/x-python",
   "name": "python",
   "nbconvert_exporter": "python",
   "pygments_lexer": "ipython3",
   "version": "3.9.12"
  },
  "vscode": {
   "interpreter": {
    "hash": "01962322fa98eddc6fb43145ec3f32ec3e7081e72a1539ae22374ac3ee41bb83"
   }
  }
 },
 "nbformat": 4,
 "nbformat_minor": 5
}
